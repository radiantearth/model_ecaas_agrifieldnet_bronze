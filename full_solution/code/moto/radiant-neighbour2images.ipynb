{
 "cells": [
  {
   "cell_type": "code",
   "execution_count": 1,
   "id": "56edcf44",
   "metadata": {
    "_cell_guid": "b1076dfc-b9ad-4769-8c92-a6c4dae69d19",
    "_uuid": "8f2839f25d086af736a60e9eeb907d3b93b6e0e5",
    "execution": {
     "iopub.execute_input": "2022-10-10T18:17:10.850898Z",
     "iopub.status.busy": "2022-10-10T18:17:10.850067Z",
     "iopub.status.idle": "2022-10-10T18:17:11.200550Z",
     "shell.execute_reply": "2022-10-10T18:17:11.199499Z"
    },
    "papermill": {
     "duration": 0.3593,
     "end_time": "2022-10-10T18:17:11.203400",
     "exception": false,
     "start_time": "2022-10-10T18:17:10.844100",
     "status": "completed"
    },
    "tags": []
   },
   "outputs": [],
   "source": [
    "import numpy as np # linear algebra\n",
    "import pandas as pd # data processing, CSV file I/O (e.g. pd.read_csv)\n",
    "\n",
    "import os\n",
    "import glob\n",
    "import rasterio\n",
    "import pickle\n",
    "\n",
    "from tqdm import tqdm\n",
    "from matplotlib import pyplot as plt\n",
    "from pylab import rcParams\n",
    "\n",
    "from PIL import Image\n",
    "rcParams['figure.figsize'] = 10, 10"
   ]
  },
  {
   "cell_type": "code",
   "execution_count": 2,
   "id": "4584a19c",
   "metadata": {
    "execution": {
     "iopub.execute_input": "2022-10-10T18:17:11.211743Z",
     "iopub.status.busy": "2022-10-10T18:17:11.210963Z",
     "iopub.status.idle": "2022-10-10T18:17:19.805775Z",
     "shell.execute_reply": "2022-10-10T18:17:19.803899Z"
    },
    "papermill": {
     "duration": 8.602314,
     "end_time": "2022-10-10T18:17:19.808950",
     "exception": false,
     "start_time": "2022-10-10T18:17:11.206636",
     "status": "completed"
    },
    "tags": []
   },
   "outputs": [
    {
     "name": "stdout",
     "output_type": "stream",
     "text": [
      "1874\n",
      "1872\n"
     ]
    },
    {
     "data": {
      "text/plain": [
       "(['../input/radiant-ref-agrifieldnet-competition-v1/content/ref_agrifieldnet_competition_v1/ref_agrifieldnet_competition_v1_labels_test/ref_agrifieldnet_competition_v1_labels_test_38086/ref_agrifieldnet_competition_v1_labels_test_38086.json',\n",
       "  '../input/radiant-ref-agrifieldnet-competition-v1/content/ref_agrifieldnet_competition_v1/ref_agrifieldnet_competition_v1_labels_test/ref_agrifieldnet_competition_v1_labels_test_e1a50/ref_agrifieldnet_competition_v1_labels_test_e1a50.json',\n",
       "  '../input/radiant-ref-agrifieldnet-competition-v1/content/ref_agrifieldnet_competition_v1/ref_agrifieldnet_competition_v1_labels_test/ref_agrifieldnet_competition_v1_labels_test_ca464/ref_agrifieldnet_competition_v1_labels_test_ca464.json'],\n",
       " ['../input/radiant-ref-agrifieldnet-competition-v1/content/ref_agrifieldnet_competition_v1/ref_agrifieldnet_competition_v1_labels_train/ref_agrifieldnet_competition_v1_labels_train_b2a94/ref_agrifieldnet_competition_v1_labels_train_b2a94.json',\n",
       "  '../input/radiant-ref-agrifieldnet-competition-v1/content/ref_agrifieldnet_competition_v1/ref_agrifieldnet_competition_v1_labels_train/ref_agrifieldnet_competition_v1_labels_train_545fb/ref_agrifieldnet_competition_v1_labels_train_545fb.json',\n",
       "  '../input/radiant-ref-agrifieldnet-competition-v1/content/ref_agrifieldnet_competition_v1/ref_agrifieldnet_competition_v1_labels_train/ref_agrifieldnet_competition_v1_labels_train_f1622/ref_agrifieldnet_competition_v1_labels_train_f1622.json'])"
      ]
     },
     "execution_count": 2,
     "metadata": {},
     "output_type": "execute_result"
    }
   ],
   "source": [
    "main_input_dir = \"../input/radiant-ref-agrifieldnet-competition-v1/content/ref_agrifieldnet_competition_v1\"\n",
    "\n",
    "json_files = glob.glob(f\"{main_input_dir}/**/*.json\", recursive=True)\n",
    "json_files = [f for f in json_files if \"ref_agrifieldnet_competition_v1_labels\" in f]\n",
    "print(len(json_files))\n",
    "\n",
    "json_files = [f for f in json_files if \"collection\" not in f]\n",
    "print(len(json_files))\n",
    "json_files[:3], json_files[-3:]"
   ]
  },
  {
   "cell_type": "code",
   "execution_count": 3,
   "id": "ff9ff894",
   "metadata": {
    "execution": {
     "iopub.execute_input": "2022-10-10T18:17:19.817854Z",
     "iopub.status.busy": "2022-10-10T18:17:19.817402Z",
     "iopub.status.idle": "2022-10-10T18:17:19.831176Z",
     "shell.execute_reply": "2022-10-10T18:17:19.829450Z"
    },
    "papermill": {
     "duration": 0.022175,
     "end_time": "2022-10-10T18:17:19.834509",
     "exception": false,
     "start_time": "2022-10-10T18:17:19.812334",
     "status": "completed"
    },
    "tags": []
   },
   "outputs": [
    {
     "name": "stdout",
     "output_type": "stream",
     "text": [
      "1165 707\n",
      "['9f1f1'] ['f1622']\n",
      "['38086'] ['63409']\n",
      "1165 707\n",
      "['001c1'] ['ffe8c']\n",
      "['001c1'] ['ffde0']\n"
     ]
    }
   ],
   "source": [
    "train_folder_ids = [f for f in json_files if \"_train_\" in f]\n",
    "test_folder_ids = [f for f in json_files if \"_test_\" in f]\n",
    "\n",
    "train_folder_ids = [f.split('_')[-1].split('.')[0] for f in train_folder_ids]\n",
    "test_folder_ids = [f.split('_')[-1].split('.')[0] for f in test_folder_ids]\n",
    "\n",
    "print(len(train_folder_ids), len(test_folder_ids))\n",
    "print(train_folder_ids[:1], train_folder_ids[-1:])\n",
    "print(test_folder_ids[:1], test_folder_ids[-1:])\n",
    "\n",
    "train_folder_ids.sort()\n",
    "test_folder_ids.sort()\n",
    "\n",
    "print(len(train_folder_ids), len(test_folder_ids))\n",
    "print(train_folder_ids[:1], train_folder_ids[-1:])\n",
    "print(test_folder_ids[:1], test_folder_ids[-1:])"
   ]
  },
  {
   "cell_type": "code",
   "execution_count": 4,
   "id": "5b6effaa",
   "metadata": {
    "execution": {
     "iopub.execute_input": "2022-10-10T18:17:19.843871Z",
     "iopub.status.busy": "2022-10-10T18:17:19.842955Z",
     "iopub.status.idle": "2022-10-10T18:17:19.860347Z",
     "shell.execute_reply": "2022-10-10T18:17:19.858679Z"
    },
    "papermill": {
     "duration": 0.02488,
     "end_time": "2022-10-10T18:17:19.863168",
     "exception": false,
     "start_time": "2022-10-10T18:17:19.838288",
     "status": "completed"
    },
    "tags": []
   },
   "outputs": [],
   "source": [
    "#root_input_dir = \"../input/radiant-ref-agrifieldnet-competition-v1/content/ref_agrifieldnet_competition_v1\"\n",
    "image_dir_pattern = main_input_dir + \"/\" + \\\n",
    "    \"ref_agrifieldnet_competition_v1_source/\" + \\\n",
    "    \"ref_agrifieldnet_competition_v1_source_fffff\"\n",
    "\n",
    "folder_dir_pattern = main_input_dir + \"/\" + \\\n",
    "    \"ref_agrifieldnet_competition_v1_labels_ddddd/\" + \\\n",
    "    \"ref_agrifieldnet_competition_v1_labels_ddddd_fffff\"\n",
    "\n",
    "image_channels = [\"B04\", \"B02\", \"B03\"] # blue (B2), green (B3), red (B4),\n",
    "def get_image_from_folder_id(folder_id, dataset=\"train\", max_value=150, debug=False):\n",
    "    image_dir_file = image_dir_pattern.replace(\"fffff\", folder_id)\n",
    "    \n",
    "    if debug:\n",
    "        print(image_dir_file)\n",
    "        \n",
    "    img = []\n",
    "    for c in image_channels:\n",
    "        image_filename = f\"{image_dir_file}/{c}.tif\"\n",
    "        with rasterio.open(image_filename) as src:\n",
    "            field_data = src.read()[0]\n",
    "            img.append(field_data)\n",
    "            \n",
    "    im = np.stack(img, axis=0)\n",
    "    im = np.transpose(im, axes=(1, 2, 0)) # image shape as (H, W, D)\n",
    "\n",
    "    #im = (((im-im.min())/(im.max()-im.min())*255)).astype(np.uint8)\n",
    "    \n",
    "    im = ((im/max_value)*255).astype(np.uint8)\n",
    "    return im\n",
    "\n",
    "def get_field_ids(folder_id, dataset=\"train\", debug=False):\n",
    "    folder_dir_file = folder_dir_pattern.replace(\"fffff\", folder_id).replace(\"ddddd\", dataset)\n",
    "    field_id_file = f\"{folder_dir_file}/field_ids.tif\"\n",
    "    \n",
    "    with rasterio.open(field_id_file) as src:\n",
    "        field_data = src.read()[0]\n",
    "        \n",
    "    return field_data\n",
    "\n",
    "if False:\n",
    "    folder_id = \"ffe8c\"\n",
    "    print(folder_id)\n",
    "    img = get_image_from_folder_id(folder_id, debug=True)\n",
    "    print(len(img), img.shape, img.max())\n",
    "\n",
    "    field_data = get_field_ids(folder_id, debug=True)\n",
    "    print(len(field_data), field_data.shape, field_data.max())\n",
    "\n",
    "    field_ids = list(set(field_data.flatten()))\n",
    "    field_ids = [f for f in field_ids if f > 0]\n",
    "    field_ids.sort()\n",
    "\n",
    "    print(field_ids)\n",
    "    \n",
    "    i = 0\n",
    "    field_id = field_ids[i]\n",
    "    mask = (field_data == field_id).astype(int)\n",
    "    mask.sum()"
   ]
  },
  {
   "cell_type": "code",
   "execution_count": 5,
   "id": "2315e757",
   "metadata": {
    "execution": {
     "iopub.execute_input": "2022-10-10T18:17:19.872610Z",
     "iopub.status.busy": "2022-10-10T18:17:19.871404Z",
     "iopub.status.idle": "2022-10-10T18:17:22.567888Z",
     "shell.execute_reply": "2022-10-10T18:17:22.566495Z"
    },
    "papermill": {
     "duration": 2.704158,
     "end_time": "2022-10-10T18:17:22.570683",
     "exception": false,
     "start_time": "2022-10-10T18:17:19.866525",
     "status": "completed"
    },
    "tags": []
   },
   "outputs": [
    {
     "name": "stdout",
     "output_type": "stream",
     "text": [
      "Processing folder 04867 ...\n",
      "Processing field_id 218 ...\n",
      "Processing field_id 454 ...\n",
      "Processing field_id 504 ...\n",
      "Processing field_id 506 ...\n",
      "Processing field_id 799 ...\n",
      "Processing field_id 919 ...\n",
      "Processing field_id 922 ...\n",
      "Processing field_id 938 ...\n",
      "Processing field_id 958 ...\n",
      "Processing field_id 1072 ...\n",
      "Processing field_id 1073 ...\n",
      "Processing field_id 1074 ...\n",
      "Processing field_id 1075 ...\n",
      "Processing field_id 1076 ...\n",
      "Processing field_id 1077 ...\n",
      "Processing field_id 1141 ...\n",
      "Processing field_id 1187 ...\n",
      "Processing field_id 1188 ...\n",
      "Processing field_id 1335 ...\n",
      "img: (256, 256, 3)\n",
      "center: [224 181]\n",
      "neighbours: 160, 224, 117, 224\n",
      "(64, 64, 3) 73.71622721354167\n",
      "(64, 64, 3) 72.85693359375\n",
      "(64, 64, 3) 73.71622721354167\n",
      "(64, 64, 3) 70.49397786458333\n",
      "(64, 64, 3) 75.32259114583333\n",
      "images/train/04867_1335_main.png 103.46158854166667\n",
      "images/train/04867_1335_north.png 98.12109375\n",
      "images/train/04867_1335_south.png 103.46158854166667\n",
      "images/train/04867_1335_west.png 83.40966796875\n",
      "images/train/04867_1335_east.png 98.21232096354167\n",
      "Processing field_id 1337 ...\n",
      "Processing field_id 1469 ...\n",
      "Processing field_id 1470 ...\n",
      "Processing field_id 1484 ...\n",
      "Processing folder 001c1 ...\n",
      "Processing field_id 6533 ...\n"
     ]
    },
    {
     "data": {
      "image/png": "[encoded data removed]",
      "text/plain": [
       "<PIL.PngImagePlugin.PngImageFile image mode=RGB size=64x64>"
      ]
     },
     "metadata": {},
     "output_type": "display_data"
    }
   ],
   "source": [
    "def get_field_image(img, field_data, field_id, min_xy=32, max_xy=224): # 64/2, 256-min_xy # 224\n",
    "    mask_index = np.argwhere(field_data == field_id)\n",
    "    center = np.round(mask_index.mean(axis=0)).astype(int)\n",
    "    center = np.clip(center, min_xy, max_xy)\n",
    "    \n",
    "    img_field = img[center[0]-min_xy:center[0]+min_xy, \n",
    "               center[1]-min_xy:center[1]+min_xy, \n",
    "               :]\n",
    "    return img_field\n",
    "\n",
    "def get_neighbour_images(img, field_data, field_id, min_xy=32, max_xy=224, debug=False): # 64/2, 256-min_xy # 224\n",
    "    \n",
    "    mask_index = np.argwhere(field_data == field_id)\n",
    "    center = np.round(mask_index.mean(axis=0)).astype(int)\n",
    "    center = np.clip(center, min_xy, max_xy)\n",
    "    \n",
    "    north = center[0] - min_xy*2\n",
    "    if north < min_xy:\n",
    "        north = min_xy\n",
    "    south = center[0] + min_xy*2\n",
    "    if south > max_xy:\n",
    "        south = max_xy\n",
    "        \n",
    "    west = center[1] - min_xy*2\n",
    "    if west < min_xy:\n",
    "        west = min_xy\n",
    "    east = center[1] + min_xy*2\n",
    "    if east > max_xy:\n",
    "        east = max_xy\n",
    "    \n",
    "    if debug:\n",
    "        print(\"center:\", center)\n",
    "        print(f\"neighbours: {north}, {south}, {west}, {east}\")\n",
    "    \n",
    "    img_field = img[center[0]-min_xy:center[0]+min_xy, \n",
    "                   center[1]-min_xy:center[1]+min_xy, \n",
    "                   :].copy()\n",
    "    img_field_north = img[north-min_xy:north+min_xy, \n",
    "                   center[1]-min_xy:center[1]+min_xy, \n",
    "                   :].copy()\n",
    "    img_field_south = img[south-min_xy:south+min_xy, \n",
    "                   center[1]-min_xy:center[1]+min_xy, \n",
    "                   :].copy()\n",
    "    img_field_west = img[center[0]-min_xy:center[0]+min_xy, \n",
    "                   west-min_xy:west+min_xy, \n",
    "                   :].copy()\n",
    "    img_field_east = img[center[0]-min_xy:center[0]+min_xy, \n",
    "                   east-min_xy:east+min_xy, \n",
    "                   :].copy()\n",
    "    outputs = [img_field, img_field_north, img_field_south, img_field_west, img_field_east]\n",
    "    if debug:\n",
    "        for o in outputs:\n",
    "            print(o.shape, o.mean())\n",
    "            \n",
    "    return outputs\n",
    "\n",
    "def process_folder(folder_id, dataset=\"train\", output_dir=\"images\", \n",
    "                   is_scale=True, debug=False):    \n",
    "    if debug:\n",
    "        print(f\"Processing folder {folder_id} ...\")\n",
    "        \n",
    "    img = get_image_from_folder_id(folder_id, dataset=dataset)\n",
    "    field_data = get_field_ids(folder_id, dataset=dataset)\n",
    "\n",
    "    field_ids = list(set(field_data.flatten()))\n",
    "    field_ids = [f for f in field_ids if f > 0]\n",
    "    field_ids.sort()\n",
    "    \n",
    "\n",
    "    for field_id in field_ids:\n",
    "        # img_field = get_field_image(img, field_data, field_id)\n",
    "        if debug:\n",
    "            print(f\"Processing field_id {field_id} ...\")\n",
    "            \n",
    "        sub_debug = False\n",
    "        if field_id in [1335]:\n",
    "            sub_debug = True\n",
    "            print(\"img:\", img.shape)\n",
    "        \n",
    "        arr_img_field = get_neighbour_images(img, field_data, field_id, debug=sub_debug)\n",
    "\n",
    "        for img_field, orientation in zip(arr_img_field, [\"main\", \"north\", \"south\", \"west\", \"east\"]):\n",
    "            field_filename = f\"{output_dir}/{dataset}/{folder_id}_{field_id}_{orientation}.png\"\n",
    "            im = img_field.copy()\n",
    "            if is_scale:\n",
    "                im = (((im-im.min())/(im.max()-im.min())*255)).astype(np.uint8)\n",
    "            \n",
    "            if sub_debug:\n",
    "                print(field_filename, im.mean())\n",
    "                \n",
    "            im = Image.fromarray(im)\n",
    "            im.save(field_filename)\n",
    "\n",
    "        \n",
    "!mkdir -p images/train\n",
    "!mkdir -p images/test\n",
    "folder_id = \"04867\"\n",
    "process_folder(folder_id, debug=True)\n",
    "\n",
    "folder_id = \"001c1\"\n",
    "process_folder(folder_id, dataset=\"test\", debug=True)\n",
    "\n",
    "from IPython.display import display\n",
    "display(Image.open(\"images/test/001c1_6533_main.png\"))"
   ]
  },
  {
   "cell_type": "code",
   "execution_count": 6,
   "id": "4b9c1f0d",
   "metadata": {
    "execution": {
     "iopub.execute_input": "2022-10-10T18:17:22.580411Z",
     "iopub.status.busy": "2022-10-10T18:17:22.579843Z",
     "iopub.status.idle": "2022-10-10T18:19:48.884475Z",
     "shell.execute_reply": "2022-10-10T18:19:48.883004Z"
    },
    "papermill": {
     "duration": 146.314168,
     "end_time": "2022-10-10T18:19:48.888569",
     "exception": false,
     "start_time": "2022-10-10T18:17:22.574401",
     "status": "completed"
    },
    "tags": []
   },
   "outputs": [
    {
     "name": "stdout",
     "output_type": "stream",
     "text": [
      "----------------------------------------\n",
      "Processing train ...\n"
     ]
    },
    {
     "name": "stderr",
     "output_type": "stream",
     "text": [
      "  2%|▏         | 18/1165 [00:02<02:36,  7.34it/s]"
     ]
    },
    {
     "name": "stdout",
     "output_type": "stream",
     "text": [
      "img: (256, 256, 3)\n",
      "center: [224 181]\n",
      "neighbours: 160, 224, 117, 224\n",
      "(64, 64, 3) 73.71622721354167\n",
      "(64, 64, 3) 72.85693359375\n",
      "(64, 64, 3) 73.71622721354167\n",
      "(64, 64, 3) 70.49397786458333\n",
      "(64, 64, 3) 75.32259114583333\n",
      "images/train/04867_1335_main.png 103.46158854166667\n",
      "images/train/04867_1335_north.png 98.12109375\n",
      "images/train/04867_1335_south.png 103.46158854166667\n",
      "images/train/04867_1335_west.png 83.40966796875\n",
      "images/train/04867_1335_east.png 98.21232096354167\n"
     ]
    },
    {
     "name": "stderr",
     "output_type": "stream",
     "text": [
      "100%|██████████| 1165/1165 [01:47<00:00, 10.79it/s]\n"
     ]
    },
    {
     "name": "stdout",
     "output_type": "stream",
     "text": [
      "----------------------------------------\n",
      "----------------------------------------\n",
      "Processing test ...\n"
     ]
    },
    {
     "name": "stderr",
     "output_type": "stream",
     "text": [
      "100%|██████████| 707/707 [00:38<00:00, 18.44it/s]"
     ]
    },
    {
     "name": "stdout",
     "output_type": "stream",
     "text": [
      "----------------------------------------\n"
     ]
    },
    {
     "name": "stderr",
     "output_type": "stream",
     "text": [
      "\n"
     ]
    }
   ],
   "source": [
    "for dataset, folder_ids in zip([\"train\", \"test\"], \n",
    "                               [train_folder_ids, test_folder_ids]):\n",
    "    print(\"-\"*40)\n",
    "    print(f\"Processing {dataset} ...\")\n",
    "    for folder_id in tqdm(folder_ids):\n",
    "        process_folder(folder_id, dataset=dataset, debug=False)\n",
    "    print(\"-\"*40)"
   ]
  },
  {
   "cell_type": "code",
   "execution_count": 7,
   "id": "12e983ef",
   "metadata": {
    "execution": {
     "iopub.execute_input": "2022-10-10T18:19:49.002112Z",
     "iopub.status.busy": "2022-10-10T18:19:49.001656Z",
     "iopub.status.idle": "2022-10-10T18:19:51.156275Z",
     "shell.execute_reply": "2022-10-10T18:19:51.154793Z"
    },
    "papermill": {
     "duration": 2.214728,
     "end_time": "2022-10-10T18:19:51.159174",
     "exception": false,
     "start_time": "2022-10-10T18:19:48.944446",
     "status": "completed"
    },
    "tags": []
   },
   "outputs": [
    {
     "name": "stdout",
     "output_type": "stream",
     "text": [
      "  29100   29100  589230\r\n",
      "   8030    8030  162502\r\n"
     ]
    }
   ],
   "source": [
    "!ls images/train | wc\n",
    "!ls images/test | wc"
   ]
  }
 ],
 "metadata": {
  "kernelspec": {
   "display_name": "Python 3",
   "language": "python",
   "name": "python3"
  },
  "language_info": {
   "codemirror_mode": {
    "name": "ipython",
    "version": 3
   },
   "file_extension": ".py",
   "mimetype": "text/x-python",
   "name": "python",
   "nbconvert_exporter": "python",
   "pygments_lexer": "ipython3",
   "version": "3.7.12"
  },
  "papermill": {
   "default_parameters": {},
   "duration": 170.652448,
   "end_time": "2022-10-10T18:19:52.038436",
   "environment_variables": {},
   "exception": null,
   "input_path": "__notebook__.ipynb",
   "output_path": "__notebook__.ipynb",
   "parameters": {},
   "start_time": "2022-10-10T18:17:01.385988",
   "version": "2.3.4"
  }
 },
 "nbformat": 4,
 "nbformat_minor": 5
}
